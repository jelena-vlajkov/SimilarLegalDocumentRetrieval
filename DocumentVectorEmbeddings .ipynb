{
 "cells": [
  {
   "cell_type": "markdown",
   "id": "9d37e439",
   "metadata": {},
   "source": [
    "<h1> Document Vector Embeddings </h1>\n",
    "\n",
    "Initial experiment will be perfomed based on the experiment by Sugathadasa et al. [https://arxiv.org/pdf/1805.10685.pdf]"
   ]
  },
  {
   "cell_type": "markdown",
   "id": "7d9fe08e",
   "metadata": {},
   "source": [
    "<h2> Text Preprocessing </h2>\n",
    "\n",
    "First step is to create a <i> document corpus </i> which is a subset of most important sentences in each document. We can do that by implementing the <i> PageRank </i> algorithm. Before we do that, we need to preprocess the document by cleaning the text of unwanted charachters and common words. We used lemmatization and case-folding to lowercase as first steps in cleaning the documents. "
   ]
  },
  {
   "cell_type": "markdown",
   "id": "834644a4",
   "metadata": {},
   "source": [
    "<h5> Required libraries </h5>\n"
   ]
  },
  {
   "cell_type": "code",
   "execution_count": 9,
   "id": "92b5f1e8",
   "metadata": {
    "scrolled": true
   },
   "outputs": [],
   "source": [
    "# !pip install requests"
   ]
  },
  {
   "cell_type": "code",
   "execution_count": 71,
   "id": "d38d43d7",
   "metadata": {},
   "outputs": [],
   "source": [
    "import requests\n",
    "from sklearn.feature_extraction.text import TfidfVectorizer\n",
    "from nltk.stem import WordNetLemmatizer\n",
    "from nltk.tokenize import word_tokenize\n",
    "import spacy\n",
    "import nltk.data\n",
    "import pandas as pd\n",
    "\n",
    "tokenizer = nltk.data.load('tokenizers/punkt/english.pickle')"
   ]
  },
  {
   "cell_type": "code",
   "execution_count": 6,
   "id": "c7dcafdf",
   "metadata": {},
   "outputs": [],
   "source": [
    "# URL for CourtListener data\n",
    "\n",
    "URL = \"https://www.courtlistener.com/api/rest/v3/opinions/1\"\n",
    "\n",
    "r = requests.get(url = URL)\n",
    "data = r.json()"
   ]
  },
  {
   "cell_type": "code",
   "execution_count": 10,
   "id": "135a8102",
   "metadata": {},
   "outputs": [],
   "source": [
    "verdict_text = data[\"plain_text\"]"
   ]
  },
  {
   "cell_type": "markdown",
   "id": "9ddc5516",
   "metadata": {},
   "source": [
    "<h2> <i> TextRank </i> algorithm </h2>\n",
    "\n",
    "<i> TextRank </i> algorithm will be implemented based on the work of Mihalcea et al [https://web.eecs.umich.edu/~mihalcea/papers/mihalcea.emnlp04.pdf]."
   ]
  },
  {
   "cell_type": "code",
   "execution_count": 30,
   "id": "2b4830f2",
   "metadata": {},
   "outputs": [],
   "source": [
    "# Lemma Tokenizer called by TfIdfVectorizer\n",
    "\n",
    "class LemmaTokenizer():\n",
    "    def __init__(self):\n",
    "        self.spacynlp = en_core_web_md.load()\n",
    "    def __call__(self, doc):\n",
    "        nlpdoc = self.spacynlp(doc)\n",
    "        nlpdoc = [token.lemma_.lower() for token in nlpdoc if (not token.is_punct)]\n",
    "        return nlpdoc\n"
   ]
  },
  {
   "cell_type": "code",
   "execution_count": 34,
   "id": "f8622b9c",
   "metadata": {},
   "outputs": [],
   "source": [
    "# Because of the TextRank algorithm, we have to split the document into sentences to create the document corpus \n",
    "# (document corpus is the k most important sentences after applying TextRank algorithm)\n",
    "\n",
    "\n",
    "sentences = tokenizer.tokenize(verdict_text)"
   ]
  },
  {
   "cell_type": "code",
   "execution_count": 35,
   "id": "efb457b6",
   "metadata": {},
   "outputs": [],
   "source": [
    "lemma_tokenizer = LemmaTokenizer()"
   ]
  },
  {
   "cell_type": "code",
   "execution_count": 54,
   "id": "95993d8f",
   "metadata": {},
   "outputs": [],
   "source": [
    "lemmatized_text = []\n",
    "\n",
    "for sentence in sentences:\n",
    "    one_sentence = lemma_tokenizer(sentence)\n",
    "    without_new_lines = [string for string in one_sentence if not string.startswith(\"\\n\")]\n",
    "    lemmatized_text.append(without_new_lines)"
   ]
  },
  {
   "cell_type": "code",
   "execution_count": 76,
   "id": "d424e630",
   "metadata": {},
   "outputs": [],
   "source": [
    "tfidf_vectors = []\n",
    "vectorizer = TfidfVectorizer(stop_words = \"english\")\n",
    "for sentence in lemmatized_text:\n",
    "    try:\n",
    "        tfidf_vectors.append(vectorizer.fit_transform(sentence))\n",
    "    except:\n",
    "        continue"
   ]
  },
  {
   "cell_type": "code",
   "execution_count": null,
   "id": "a87a871b",
   "metadata": {},
   "outputs": [],
   "source": []
  }
 ],
 "metadata": {
  "kernelspec": {
   "display_name": "Python 3 (ipykernel)",
   "language": "python",
   "name": "python3"
  },
  "language_info": {
   "codemirror_mode": {
    "name": "ipython",
    "version": 3
   },
   "file_extension": ".py",
   "mimetype": "text/x-python",
   "name": "python",
   "nbconvert_exporter": "python",
   "pygments_lexer": "ipython3",
   "version": "3.8.6"
  }
 },
 "nbformat": 4,
 "nbformat_minor": 5
}
