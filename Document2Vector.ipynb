{
 "cells": [
  {
   "cell_type": "code",
   "execution_count": null,
   "id": "782b393c",
   "metadata": {},
   "outputs": [],
   "source": [
    "import gensim\n",
    "import pandas as pd\n",
    "import numpy as np\n",
    "from sklearn.metrics.pairwise import cosine_similarity, euclidean_distances, manhattan_distances\n",
    "import spacy\n",
    "import en_core_web_md\n",
    "import string \n",
    "import gensim.downloader\n",
    "import math\n",
    "from sklearn.preprocessing import StandardScaler\n"
   ]
  },
  {
   "cell_type": "code",
   "execution_count": null,
   "id": "829facea",
   "metadata": {},
   "outputs": [],
   "source": [
    "def tokenize(text, stopwords, max_len = 20):\n",
    "    return [token for token in gensim.utils.simple_preprocess(text, max_len=max_len) if token not in stopwords]"
   ]
  },
  {
   "cell_type": "code",
   "execution_count": null,
   "id": "6ec6c885",
   "metadata": {},
   "outputs": [],
   "source": [
    "verdict_dict_tagged_train = {}\n",
    "verdict_dict_test_clean = {} \n",
    "\n",
    "offset = 0\n",
    "for k, v in verdict_dict.items():\n",
    "    verdict__dict_tagged_train[k] = [gensim.models.doc2vec.TaggedDocument(tokenize(text, [], max_len=200), [i+offset]) for i, text in enumerate(v)]\n",
    "    offset += len(v)\n",
    "\n",
    "offset = 0\n",
    "for k, v in verdict_dict_test.items():\n",
    "    verdict_dict_test_clean[k] = [tokenize(text, [], max_len=200) for i, text in enumerate(v)]\n",
    "    offset += len(v)\n",
    "    \n",
    "train_corpus = [taggeddoc for taggeddoc_list in list(verdict_dict_tagged_train.values()) for taggeddoc in taggeddoc_list]\n"
   ]
  },
  {
   "cell_type": "code",
   "execution_count": null,
   "id": "a6934e86",
   "metadata": {},
   "outputs": [],
   "source": [
    "model = gensim.models.doc2vec.Doc2Vec(vector_size=30, min_count=2, epochs=40, window=2)\n",
    "model.build_vocab(train_corpus)\n",
    "model.train(train_corpus, total_examples=model.corpus_count, epochs=model.epochs)"
   ]
  }
 ],
 "metadata": {
  "kernelspec": {
   "display_name": "Python 3 (ipykernel)",
   "language": "python",
   "name": "python3"
  },
  "language_info": {
   "codemirror_mode": {
    "name": "ipython",
    "version": 3
   },
   "file_extension": ".py",
   "mimetype": "text/x-python",
   "name": "python",
   "nbconvert_exporter": "python",
   "pygments_lexer": "ipython3",
   "version": "3.8.6"
  }
 },
 "nbformat": 4,
 "nbformat_minor": 5
}
