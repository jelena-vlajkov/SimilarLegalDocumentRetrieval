{
 "cells": [
  {
   "cell_type": "markdown",
   "id": "9d37e439",
   "metadata": {},
   "source": [
    "<h1> Document Vector Embeddings </h1>\n",
    "\n",
    "Initial experiment will be perfomed based on the experiment by Sugathadasa et al. [https://arxiv.org/pdf/1805.10685.pdf]"
   ]
  },
  {
   "cell_type": "markdown",
   "id": "7d9fe08e",
   "metadata": {},
   "source": [
    "<h2> Text Preprocessing </h2>\n",
    "\n",
    "First step is to create a <i> document corpus </i> which is a subset of most important sentences in each document. We can do that by implementing the <i> PageRank </i> algorithm. Before we do that, we need to preprocess the document by cleaning the text of unwanted charachters and common words. We used lemmatization and case-folding to lowercase as first steps in cleaning the documents. "
   ]
  },
  {
   "cell_type": "markdown",
   "id": "834644a4",
   "metadata": {},
   "source": [
    "<h5> Required libraries </h5>\n"
   ]
  },
  {
   "cell_type": "code",
   "execution_count": null,
   "id": "92b5f1e8",
   "metadata": {
    "scrolled": true
   },
   "outputs": [],
   "source": [
    "# !pip install requests"
   ]
  },
  {
   "cell_type": "code",
   "execution_count": 66,
   "id": "d38d43d7",
   "metadata": {},
   "outputs": [],
   "source": [
    "import requests\n",
    "import numpy as np\n",
    "from sklearn.feature_extraction.text import TfidfVectorizer\n",
    "from nltk.stem import WordNetLemmatizer\n",
    "from nltk.tokenize import word_tokenize\n",
    "import spacy\n",
    "import nltk.data\n",
    "import pandas as pd\n",
    "from text_rank import analyze \n",
    "from sklearn.metrics.pairwise import cosine_similarity, euclidean_distances, manhattan_distances\n",
    "import en_core_web_sm\n",
    "\n",
    "tokenizer = nltk.data.load('tokenizers/punkt/english.pickle')"
   ]
  },
  {
   "cell_type": "code",
   "execution_count": 38,
   "id": "de293030",
   "metadata": {},
   "outputs": [],
   "source": [
    "NUM_OF_DOCUMENTS = 5\n",
    "NUM_OF_SENTENCES = 30\n",
    "NUM_OF_CHARACTERS = 10\n",
    "\n",
    "URL = \"https://www.courtlistener.com/api/rest/v3/opinions/\""
   ]
  },
  {
   "cell_type": "code",
   "execution_count": 39,
   "id": "4632d9b6",
   "metadata": {},
   "outputs": [],
   "source": [
    "def get_document(endpoint):\n",
    "    r = requests.get(url = endpoint)\n",
    "    data = r.json()\n",
    "    verdict_text = data[\"plain_text\"]\n",
    "    verdict_text = verdict_text.replace(\"\\n\", \" \")\n",
    "    \n",
    "    return verdict_text"
   ]
  },
  {
   "cell_type": "code",
   "execution_count": 40,
   "id": "2b4830f2",
   "metadata": {},
   "outputs": [],
   "source": [
    "# Lemma Tokenizer called by TfIdfVectorizer\n",
    "\n",
    "class LemmaTokenizer():\n",
    "    def __init__(self):\n",
    "        self.spacynlp = spacy.load('en_core_web_sm')\n",
    "    def __call__(self, doc):\n",
    "        nlpdoc = self.spacynlp(doc)\n",
    "        nlpdoc = [token.lemma_.lower() for token in nlpdoc if (not token.is_punct)]\n",
    "        return nlpdoc\n"
   ]
  },
  {
   "cell_type": "markdown",
   "id": "9ddc5516",
   "metadata": {},
   "source": [
    "<h2> <i> TextRank </i> algorithm </h2>\n",
    "\n",
    "<i> TextRank </i> algorithm will be implemented based on the work of Mihalcea et al [https://web.eecs.umich.edu/~mihalcea/papers/mihalcea.emnlp04.pdf]. <br>\n",
    "We use this algorithm for extracting \"most valuable\" sentences in a document.  <br> <br>\n",
    "<i> TextRank </i> algorithm is implemented in a python script named <i> text_rank.py </i>"
   ]
  },
  {
   "cell_type": "code",
   "execution_count": 41,
   "id": "0d9de2b7",
   "metadata": {},
   "outputs": [],
   "source": [
    "def apply_textrank(text):\n",
    "    sorted_sentences = analyze(text, NUM_OF_SENTENCES)\n",
    "    return sorted_sentences"
   ]
  },
  {
   "cell_type": "markdown",
   "id": "d529e42a",
   "metadata": {},
   "source": [
    "Sentences that are shorter than N characters should be removed."
   ]
  },
  {
   "cell_type": "markdown",
   "id": "6a59da7b",
   "metadata": {},
   "source": [
    "<h2> Text processing after <i> TextRank </i> algorithm </h2>\n",
    "\n",
    "After the <i> TextRank </i> algorithm we apply lemmatization to each word in the document"
   ]
  },
  {
   "cell_type": "code",
   "execution_count": 42,
   "id": "61f72739",
   "metadata": {},
   "outputs": [],
   "source": [
    "def sorted_list2str(s): \n",
    "    # initialize an empty string\n",
    "    str1 = \"\" \n",
    "    \n",
    "    # traverse in the string  \n",
    "    for ele in s: \n",
    "        str1 += \" \" + ele  \n",
    "    \n",
    "    # return string  \n",
    "    return str1 "
   ]
  },
  {
   "cell_type": "code",
   "execution_count": 43,
   "id": "b128848f",
   "metadata": {},
   "outputs": [],
   "source": [
    "def lemmatized_txt2str(s):\n",
    "    # initialize an empty string\n",
    "    str1 = \"\" \n",
    "    \n",
    "    # traverse in the string  \n",
    "    for ele in s: \n",
    "        for ele2 in ele:\n",
    "            if ele2.isspace():\n",
    "                continue\n",
    "            str1 += \" \" + ele2  \n",
    "    \n",
    "    # return string\n",
    "\n",
    "    return str1 "
   ]
  },
  {
   "cell_type": "code",
   "execution_count": 44,
   "id": "77ea7198",
   "metadata": {},
   "outputs": [],
   "source": [
    "lemma_tokenizer = LemmaTokenizer()\n",
    "def lemmatize(sentences):\n",
    "    # Because of the TextRank algorithm, we have to split the document into sentences to create the document corpus \n",
    "    # (document corpus is the k most important sentences after applying TextRank algorithm)\n",
    "\n",
    "\n",
    "    sentences = tokenizer.tokenize(sorted_list2str(sentences))\n",
    "    sentences = [x for x in sentences if len(x) > NUM_OF_CHARACTERS]\n",
    "    lemmatized_text = []\n",
    "\n",
    "    for sentence in sentences:\n",
    "        one_sentence = lemma_tokenizer(sentence)\n",
    "        lemmatized_text.append(one_sentence)\n",
    "    lemmatized_text = lemmatized_txt2str(lemmatized_text)\n",
    "    return lemmatized_text"
   ]
  },
  {
   "cell_type": "markdown",
   "id": "0277f70b",
   "metadata": {},
   "source": [
    "<h2> Apply TF-IDF </h2>"
   ]
  },
  {
   "cell_type": "code",
   "execution_count": 45,
   "id": "d424e630",
   "metadata": {},
   "outputs": [],
   "source": [
    "def call_vectorizer(df):\n",
    "    tfidf_vectorizer = TfidfVectorizer(stop_words = \"english\")\n",
    "    tfidf_vector = tfidf_vectorizer.fit_transform(df.iloc[:, 0].tolist())\n",
    "    tfidf_df = pd.DataFrame(tfidf_vector.toarray(), columns=tfidf_vectorizer.get_feature_names())\n",
    "        \n",
    "    return tfidf_vectorizer, tfidf_df "
   ]
  },
  {
   "cell_type": "markdown",
   "id": "1d82230f",
   "metadata": {},
   "source": [
    "<h2> Global Term Frequency </h2>\n",
    "\n",
    "To see how important a word is in the whole dataset, we calculate GTF_IDF matrix applying the formula below:\n",
    "\n",
    "GTF_IDF = TF_IDF * sum(TF_IDF) / NUM_OF_DOCUMENTS"
   ]
  },
  {
   "cell_type": "code",
   "execution_count": 55,
   "id": "61dd16fc",
   "metadata": {},
   "outputs": [],
   "source": [
    "\n",
    "def calculate_gtfidf(tf_df):\n",
    "    sum_of_idfs = tfidf_df.sum(axis = 0)\n",
    "    for i in range(len(tfidf_df.columns)):\n",
    "        tf_df[tfidf_df.columns[i]] = tf_df[tfidf_df.columns[i]].apply(lambda x: x * (sum_of_idfs[i] / NUM_OF_DOCUMENTS))\n",
    "        \n",
    "    return tf_df"
   ]
  },
  {
   "cell_type": "markdown",
   "id": "28b2299a",
   "metadata": {},
   "source": [
    "<h2> The Experiment </h2>\n",
    "\n",
    "We run the whole pipeline on N documents from the CourtListener database"
   ]
  },
  {
   "cell_type": "code",
   "execution_count": 47,
   "id": "58350771",
   "metadata": {},
   "outputs": [
    {
     "name": "stderr",
     "output_type": "stream",
     "text": [
      "c:\\users\\admin\\appdata\\local\\programs\\python\\python38\\lib\\site-packages\\sklearn\\utils\\deprecation.py:87: FutureWarning: Function get_feature_names is deprecated; get_feature_names is deprecated in 1.0 and will be removed in 1.2. Please use get_feature_names_out instead.\n",
      "  warnings.warn(msg, category=FutureWarning)\n"
     ]
    }
   ],
   "source": [
    "df = pd.DataFrame(columns = [\"document\"])\n",
    "\n",
    "for i in range(1, NUM_OF_DOCUMENTS):\n",
    "    document = get_document(URL + str(i))\n",
    "    sorted_sentences = apply_textrank(document)\n",
    "    df.loc[i] = lemmatize(sorted_sentences)\n",
    "\n",
    "vectorizer, tfidf_df = call_vectorizer(df)\n",
    "gtf_idf = calculate_gtfidf(tfidf_df, tfidf_df.columns)\n",
    "    "
   ]
  },
  {
   "cell_type": "code",
   "execution_count": 77,
   "id": "c41a852e",
   "metadata": {},
   "outputs": [],
   "source": [
    "def cos_similarity(tfidf_test):\n",
    "    \n",
    "    for i, doc in enumerate(df.iloc[:, 0]): \n",
    "        tfidf_test = vectorizer.transform([doc])\n",
    "        tfidf_test = pd.DataFrame(tfidf_test.toarray(), columns=vectorizer.get_feature_names())\n",
    "        tfidf_test = calculate_gtfidf(tfidf_test)\n",
    "\n",
    "        distances = cosine_similarity(tfidf_test, tfidf_df).flatten()\n",
    "        print(i)\n",
    "        indexes = np.argsort(distances)[::-1]\n",
    "        print(indexes)\n",
    "        return indexes"
   ]
  },
  {
   "cell_type": "code",
   "execution_count": 78,
   "id": "ce315c6c",
   "metadata": {},
   "outputs": [
    {
     "data": {
      "text/html": [
       "<div>\n",
       "<style scoped>\n",
       "    .dataframe tbody tr th:only-of-type {\n",
       "        vertical-align: middle;\n",
       "    }\n",
       "\n",
       "    .dataframe tbody tr th {\n",
       "        vertical-align: top;\n",
       "    }\n",
       "\n",
       "    .dataframe thead th {\n",
       "        text-align: right;\n",
       "    }\n",
       "</style>\n",
       "<table border=\"1\" class=\"dataframe\">\n",
       "  <thead>\n",
       "    <tr style=\"text-align: right;\">\n",
       "      <th></th>\n",
       "      <th>document</th>\n",
       "    </tr>\n",
       "  </thead>\n",
       "  <tbody>\n",
       "    <tr>\n",
       "      <th>1</th>\n",
       "      <td>although the court do not specifically refere...</td>\n",
       "    </tr>\n",
       "    <tr>\n",
       "      <th>2</th>\n",
       "      <td>to determine whether a violation have occur w...</td>\n",
       "    </tr>\n",
       "    <tr>\n",
       "      <th>3</th>\n",
       "      <td>on february 12 2008 the jury return a unanimo...</td>\n",
       "    </tr>\n",
       "    <tr>\n",
       "      <th>4</th>\n",
       "      <td>in august 2009 ansys sue its former employee ...</td>\n",
       "    </tr>\n",
       "  </tbody>\n",
       "</table>\n",
       "</div>"
      ],
      "text/plain": [
       "                                            document\n",
       "1   although the court do not specifically refere...\n",
       "2   to determine whether a violation have occur w...\n",
       "3   on february 12 2008 the jury return a unanimo...\n",
       "4   in august 2009 ansys sue its former employee ..."
      ]
     },
     "execution_count": 78,
     "metadata": {},
     "output_type": "execute_result"
    }
   ],
   "source": [
    "df"
   ]
  },
  {
   "cell_type": "code",
   "execution_count": 79,
   "id": "8244c692",
   "metadata": {},
   "outputs": [
    {
     "name": "stdout",
     "output_type": "stream",
     "text": [
      "0\n",
      "[0 1 3 2]\n"
     ]
    },
    {
     "name": "stderr",
     "output_type": "stream",
     "text": [
      "c:\\users\\admin\\appdata\\local\\programs\\python\\python38\\lib\\site-packages\\sklearn\\utils\\deprecation.py:87: FutureWarning: Function get_feature_names is deprecated; get_feature_names is deprecated in 1.0 and will be removed in 1.2. Please use get_feature_names_out instead.\n",
      "  warnings.warn(msg, category=FutureWarning)\n"
     ]
    }
   ],
   "source": [
    "indexes = cos_similarity(gtf_idf)"
   ]
  }
 ],
 "metadata": {
  "kernelspec": {
   "display_name": "Python 3 (ipykernel)",
   "language": "python",
   "name": "python3"
  },
  "language_info": {
   "codemirror_mode": {
    "name": "ipython",
    "version": 3
   },
   "file_extension": ".py",
   "mimetype": "text/x-python",
   "name": "python",
   "nbconvert_exporter": "python",
   "pygments_lexer": "ipython3",
   "version": "3.8.6"
  }
 },
 "nbformat": 4,
 "nbformat_minor": 5
}
